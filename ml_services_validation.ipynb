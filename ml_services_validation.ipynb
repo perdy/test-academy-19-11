{
 "cells": [
  {
   "cell_type": "code",
   "execution_count": 1,
   "metadata": {
    "slideshow": {
     "slide_type": "skip"
    }
   },
   "outputs": [],
   "source": [
    "import asyncio\n",
    "import json\n",
    "import logging\n",
    "import multiprocessing\n",
    "import typing\n",
    "import warnings\n",
    "from multiprocessing import Process\n",
    "from urllib.parse import unquote\n",
    "\n",
    "import pandas as pd\n",
    "import uvicorn\n",
    "from flama.applications import Flama\n",
    "from flama.components import Component\n",
    "from flama.routing import Router\n",
    "from marshmallow import fields, Schema\n",
    "from uvicorn import Config, Server\n",
    "\n",
    "logging.disable(logging.INFO)\n",
    "warnings.filterwarnings('ignore')"
   ]
  },
  {
   "cell_type": "markdown",
   "metadata": {
    "slideshow": {
     "slide_type": "slide"
    }
   },
   "source": [
    "<div align=\"center\"><img src=\"img/portada.jpg\" alt=\"Test Academy\" width=\"800\" height=\"600\" /></div>"
   ]
  },
  {
   "cell_type": "markdown",
   "metadata": {
    "slideshow": {
     "slide_type": "subslide"
    }
   },
   "source": [
    "<div align=\"center\"><h1>Machine Learning Services Validation</h1></div>\n",
    "<br>\n",
    "<div align=\"center\"><em>Do not let your Machine Learning service going into production without being tested</em></div>\n",
    "\n",
    "\n",
    "<br>\n",
    "\n",
    "***\n",
    "<div style=\"width: 100%; display: table;\">\n",
    "    <div style=\"display: table-row\">\n",
    "        <div style=\"display: table-cell; text-align: center; width: 50%;\">\n",
    "            <span><b>José Antonio Perdiguero López</b></span>\n",
    "            <br><br>\n",
    "            <span>🌐 http://www.perdy.io</span>\n",
    "            <br><br>\n",
    "            <span>👨‍💻 https://github.com/perdy</span>\n",
    "            <br><br>\n",
    "            <span>👔 https://www.linkedin.com/in/perdy</span>\n",
    "            <br><br>\n",
    "            <span>📧 perdy@perdy.io</span>\n",
    "        </div>\n",
    "        <div style=\"display: table-cell; text-align: center; width: 50%;\">\n",
    "            <span><b>Support open source projects by giving a star ⭐ and spreading the word 📣</b></span>\n",
    "            <br><br>\n",
    "            <span>https://flama.perdy.io/</span>\n",
    "            <br><br>\n",
    "            <span>https://getgauge.io/</span>\n",
    "            <br><br>\n",
    "            <span>https://www.tensorflow.org</span>\n",
    "            <br><br>\n",
    "            <span>https://www.python.org/</span>\n",
    "        </div>\n",
    "    </div>\n",
    "</div>"
   ]
  },
  {
   "cell_type": "markdown",
   "metadata": {
    "slideshow": {
     "slide_type": "subslide"
    }
   },
   "source": [
    "## Index\n",
    "\n",
    "1. [Introduction](#Introduction)\n",
    "2. [Machine Learning](#Machine-Learning)\n",
    "3. [Building A Machine Learning Model](#Building-A-Machine-Learning-Model)\n",
    "4. [Developing The Service](#Developing-The-Service)\n",
    "5. [Testing The Service](#Testing-The-Service)"
   ]
  },
  {
   "cell_type": "markdown",
   "metadata": {
    "slideshow": {
     "slide_type": "slide"
    }
   },
   "source": [
    "<h1><center>Introduction</center></h1>"
   ]
  },
  {
   "cell_type": "markdown",
   "metadata": {
    "slideshow": {
     "slide_type": "subslide"
    }
   },
   "source": [
    "## Introduction\n",
    "\n",
    "Do we really know what **Artificial Intelligence** is?"
   ]
  },
  {
   "cell_type": "markdown",
   "metadata": {
    "slideshow": {
     "slide_type": "fragment"
    }
   },
   "source": [
    "And, specifically, do we know what **Machine Learning** is?"
   ]
  },
  {
   "cell_type": "markdown",
   "metadata": {
    "slideshow": {
     "slide_type": "fragment"
    }
   },
   "source": [
    "How can we **verify** and **validate** services whose response depends on a Machine Learning model?"
   ]
  },
  {
   "cell_type": "markdown",
   "metadata": {
    "slideshow": {
     "slide_type": "subslide"
    }
   },
   "source": [
    "## Goals\n",
    "\n",
    "1. **Discover new tools** for building REST APIs and design Tests."
   ]
  },
  {
   "cell_type": "markdown",
   "metadata": {
    "slideshow": {
     "slide_type": "fragment"
    }
   },
   "source": [
    "2. **Understand** what is Artificial Intelligence and Machine Learning."
   ]
  },
  {
   "cell_type": "markdown",
   "metadata": {
    "slideshow": {
     "slide_type": "fragment"
    }
   },
   "source": [
    "3. **Build a Machine Learning model** for a solving a complex problem."
   ]
  },
  {
   "cell_type": "markdown",
   "metadata": {
    "slideshow": {
     "slide_type": "fragment"
    }
   },
   "source": [
    "4. **Develop a service** that relies on a Machine Learning model."
   ]
  },
  {
   "cell_type": "markdown",
   "metadata": {
    "slideshow": {
     "slide_type": "fragment"
    }
   },
   "source": [
    "5. **Generate some tests** that verify and validate the service and the model."
   ]
  },
  {
   "cell_type": "markdown",
   "metadata": {
    "slideshow": {
     "slide_type": "subslide"
    }
   },
   "source": [
    "## Tools\n",
    "\n",
    "<div style=\"width: 100%; display: table;\">\n",
    "    <div style=\"display: table-row\">\n",
    "        <div style=\"display: table-cell; align: center; width: 50%;\">\n",
    "            <h3><em>The Glue</em></h3>\n",
    "            <img src=\"img/python-logo.png\" width=\"300\"/>\n",
    "        </div>\n",
    "        <div style=\"display: table-cell; align: center; width: 50%;\">\n",
    "            <h3><em>The Mind</em></h3>\n",
    "            <img src=\"img/tensorflow-logo.png\" width=\"300\"/>\n",
    "        </div>\n",
    "    </div>\n",
    "    <div style=\"display: table-row\">\n",
    "        <div style=\"display: table-cell; align: center; width: 50%;\">\n",
    "            <h3><em>The Power</em></h3>\n",
    "            <img src=\"img/flama.png\" width=\"300\"/>\n",
    "        </div>\n",
    "        <div style=\"display: table-cell; align: center; width: 50%;\">\n",
    "            <h3><em>The Shield</em></h3>\n",
    "            <img src=\"img/gauge-logo.png\" width=\"300\"/>\n",
    "        </div>\n",
    "    </div>\n",
    "</div>"
   ]
  },
  {
   "cell_type": "markdown",
   "metadata": {
    "slideshow": {
     "slide_type": "slide"
    }
   },
   "source": [
    "<h1><center>Machine Learning</center></h1>"
   ]
  },
  {
   "cell_type": "markdown",
   "metadata": {
    "slideshow": {
     "slide_type": "subslide"
    }
   },
   "source": [
    "## What Is Artificial Intelligence?\n",
    "\n",
    "Artificial intelligence is the simulation of human intelligence processes by computer systems. These processes include **learning** (the acquisition of information and rules for using the information), **reasoning** (using rules to reach approximate or definite conclusions) and **self-correction**."
   ]
  },
  {
   "cell_type": "markdown",
   "metadata": {
    "slideshow": {
     "slide_type": "fragment"
    }
   },
   "source": [
    "AI can be categorized as either weak or strong."
   ]
  },
  {
   "cell_type": "markdown",
   "metadata": {
    "slideshow": {
     "slide_type": "fragment"
    }
   },
   "source": [
    "### Strong AI\n",
    "Also known as artificial general intelligence. Is an AI system with generalized human cognitive abilities. When presented with an unfamiliar task, a strong AI system is able to find a solution without human intervention."
   ]
  },
  {
   "cell_type": "markdown",
   "metadata": {
    "slideshow": {
     "slide_type": "fragment"
    }
   },
   "source": [
    "### Weak AI\n",
    "Also known as narrow AI. Is an AI system that is designed and trained for a particular task."
   ]
  },
  {
   "cell_type": "markdown",
   "metadata": {
    "slideshow": {
     "slide_type": "subslide"
    }
   },
   "source": [
    "## AI In Perspective\n",
    "\n",
    "<br>\n",
    "<div align=\"center\"><img src=\"img/tree-ai.png\" alt=\"Tree AI\" width=\"1024\" height=\"768\" /></div>"
   ]
  },
  {
   "cell_type": "markdown",
   "metadata": {
    "slideshow": {
     "slide_type": "subslide"
    }
   },
   "source": [
    "## AI In Perspective\n",
    "\n",
    "<br>\n",
    "<div align=\"center\"><img src=\"img/venn-ai.png\" alt=\"Venn AI\" width=\"1024\" height=\"768\" /></div>"
   ]
  },
  {
   "cell_type": "markdown",
   "metadata": {
    "slideshow": {
     "slide_type": "subslide"
    }
   },
   "source": [
    "## AI In Perspective\n",
    "\n",
    "<br>\n",
    "<div align=\"center\"><img src=\"img/venn-ai-simplified.png\" alt=\"Venn AI Simplified\" width=\"1024\" height=\"768\" /></div>"
   ]
  },
  {
   "cell_type": "markdown",
   "metadata": {
    "slideshow": {
     "slide_type": "subslide"
    }
   },
   "source": [
    "## What Is Machine Learning?\n",
    "\n",
    "The science of getting a computer to act without programming. There are three types of machine learning algorithms:"
   ]
  },
  {
   "cell_type": "markdown",
   "metadata": {
    "slideshow": {
     "slide_type": "fragment"
    }
   },
   "source": [
    "### Supervised learning\n",
    "\n",
    "Data sets are labeled so that patterns can be detected and used to label new data sets."
   ]
  },
  {
   "cell_type": "markdown",
   "metadata": {
    "slideshow": {
     "slide_type": "fragment"
    }
   },
   "source": [
    "### Unsupervised learning\n",
    "\n",
    "Data sets aren’t labeled and are sorted according to similarities or differences."
   ]
  },
  {
   "cell_type": "markdown",
   "metadata": {
    "slideshow": {
     "slide_type": "fragment"
    }
   },
   "source": [
    "### Reinforcement learning\n",
    "\n",
    "Data sets aren’t labeled but, after performing an action or several actions, the AI system is given feedback."
   ]
  },
  {
   "cell_type": "markdown",
   "metadata": {
    "slideshow": {
     "slide_type": "subslide"
    }
   },
   "source": [
    "## Supervised Learning\n",
    "\n",
    "<br>\n",
    "<div align=\"center\"><img src=\"img/training-process.png\" alt=\"Training Process\" width=\"1024\" height=\"768\" /></div>"
   ]
  },
  {
   "cell_type": "markdown",
   "metadata": {
    "slideshow": {
     "slide_type": "subslide"
    }
   },
   "source": [
    "## The Model\n",
    "\n",
    "We are going to build a model that performs a sentiment analysis over a text and concludes if it is positive or negative.\n",
    "\n",
    "**Input:** A text (a list of integers representing each word).\n",
    "\n",
    "**Output:** 0 (negative) or 1 (positive).\n",
    "\n",
    "<br>\n",
    "<div align=\"center\"><img src=\"img/lstm-model.png\" alt=\"LSTM Model\" width=\"800\" height=\"600\" /></div>"
   ]
  },
  {
   "cell_type": "markdown",
   "metadata": {
    "slideshow": {
     "slide_type": "slide"
    }
   },
   "source": [
    "<h1><center>Building A Machine Learning Model</center></h1>"
   ]
  },
  {
   "cell_type": "code",
   "execution_count": null,
   "metadata": {
    "slideshow": {
     "slide_type": "skip"
    }
   },
   "outputs": [],
   "source": [
    "from keras import Sequential\n",
    "from keras.datasets import imdb\n",
    "from keras.layers import Embedding, LSTM, Dense, Dropout\n",
    "from keras.preprocessing import sequence"
   ]
  },
  {
   "cell_type": "markdown",
   "metadata": {
    "slideshow": {
     "slide_type": "subslide"
    }
   },
   "source": [
    "## Training Dataset\n",
    "\n",
    "The dataset used for training this model is based on movie’s reviews from IMDB and it will have the following shape:\n",
    "\n",
    "<table>\n",
    "\t<thead>\n",
    "\t\t<tr>\n",
    "\t\t\t<th>Text input</th>\n",
    "\t\t\t<th>Input</th>\n",
    "\t\t\t<th>Output</th>\n",
    "\t\t</tr>\n",
    "    </thead>\n",
    "    <tbody>\n",
    "\t\t<tr>\n",
    "\t\t\t<td>the as you with out themselves...</td>\n",
    "\t\t\t<td>[1, 14, 22, 16, 43, 530, ...]</td>\n",
    "\t\t\t<td>1</td>\n",
    "\t\t</tr>\n",
    "\t\t<tr>\n",
    "\t\t\t<td>the thought solid thought sena...</td>\n",
    "\t\t\t<td>[1, 194, 1153, 194, 8255, ...]</td>\n",
    "\t\t\t<td>0</td>\n",
    "\t\t</tr>\n",
    "\t\t<tr>\n",
    "\t\t\t<td>the as there in at by br of su...</td>\n",
    "\t\t\t<td>[1, 14, 47, 8, 30, 31, 7, ...]</td>\n",
    "\t\t\t<td>0</td>\n",
    "\t\t</tr>\n",
    "\t\t<tr>\n",
    "\t\t\t<td>the of bernadette mon they hal...</td>\n",
    "\t\t\t<td>[1, 4, 18609, 16085, 33, ...]</td>\n",
    "\t\t\t<td>1</td>\n",
    "\t\t</tr>\n",
    "\t\t<tr>\n",
    "\t\t\t<td>the sure themes br only acting...</td>\n",
    "\t\t\t<td>[1, 249, 1323, 7, 61, 113, ...]</td>\n",
    "\t\t\t<td>0</td>\n",
    "\t\t</tr>\n",
    "\t</tbody>\n",
    "</table>"
   ]
  },
  {
   "cell_type": "markdown",
   "metadata": {
    "slideshow": {
     "slide_type": "subslide"
    }
   },
   "source": [
    "## Building The Training Dataset\n",
    "\n",
    "A first step in a dataset building process could be to define how large it will be."
   ]
  },
  {
   "cell_type": "code",
   "execution_count": 2,
   "metadata": {
    "slideshow": {
     "slide_type": "-"
    }
   },
   "outputs": [],
   "source": [
    "VOCABULARY_LENGTH = 20000"
   ]
  },
  {
   "cell_type": "markdown",
   "metadata": {
    "slideshow": {
     "slide_type": "fragment"
    }
   },
   "source": [
    "Keras provides some datasets so it's possible to skip the data gathering process."
   ]
  },
  {
   "cell_type": "code",
   "execution_count": 3,
   "metadata": {
    "slideshow": {
     "slide_type": "-"
    }
   },
   "outputs": [
    {
     "name": "stdout",
     "output_type": "stream",
     "text": [
      "Downloading data from https://s3.amazonaws.com/text-datasets/imdb.npz\n",
      "17465344/17464789 [==============================] - 40s 2us/step\n"
     ]
    }
   ],
   "source": [
    "(X_train, y_train), (X_test, y_test) = imdb.load_data(num_words = VOCABULARY_LENGTH)"
   ]
  },
  {
   "cell_type": "markdown",
   "metadata": {
    "slideshow": {
     "slide_type": "fragment"
    }
   },
   "source": [
    "As the dataset used for training will consist of integers that represents a word, it could be interesting to have mappings of **Word -> ID** and **ID -> Word**."
   ]
  },
  {
   "cell_type": "code",
   "execution_count": 4,
   "metadata": {
    "slideshow": {
     "slide_type": "-"
    }
   },
   "outputs": [
    {
     "name": "stdout",
     "output_type": "stream",
     "text": [
      "Downloading data from https://s3.amazonaws.com/text-datasets/imdb_word_index.json\n",
      "1646592/1641221 [==============================] - 3s 2us/step\n"
     ]
    }
   ],
   "source": [
    "word2id = imdb.get_word_index()\n",
    "id2word = {i: word for word, i in word2id.items()}"
   ]
  },
  {
   "cell_type": "markdown",
   "metadata": {
    "slideshow": {
     "slide_type": "fragment"
    }
   },
   "source": [
    "All input documents must have the same length so it's necessary to limit the maximum review length by truncating longer reviews and padding shorter reviews with a null value (`0`)."
   ]
  },
  {
   "cell_type": "code",
   "execution_count": 5,
   "metadata": {
    "slideshow": {
     "slide_type": "-"
    }
   },
   "outputs": [],
   "source": [
    "MAX_WORDS = 500\n",
    "X_train = sequence.pad_sequences(X_train, maxlen=MAX_WORDS)\n",
    "X_test = sequence.pad_sequences(X_test, maxlen=MAX_WORDS)"
   ]
  },
  {
   "cell_type": "markdown",
   "metadata": {
    "slideshow": {
     "slide_type": "subslide"
    }
   },
   "source": [
    "### Design Model\n",
    "\n",
    "**Input**: Sequence of words (integer ids) whose length are MAX_WORDS.\n",
    "\n",
    "**Output**: Binary label (0 means *Negative* and 1 means *Positive*)"
   ]
  },
  {
   "cell_type": "code",
   "execution_count": 6,
   "metadata": {
    "slideshow": {
     "slide_type": "-"
    }
   },
   "outputs": [
    {
     "name": "stdout",
     "output_type": "stream",
     "text": [
      "Model: \"sequential_1\"\n",
      "_________________________________________________________________\n",
      "Layer (type)                 Output Shape              Param #   \n",
      "=================================================================\n",
      "embedding_1 (Embedding)      (None, 500, 32)           640000    \n",
      "_________________________________________________________________\n",
      "lstm_1 (LSTM)                (None, 100)               53200     \n",
      "_________________________________________________________________\n",
      "dense_1 (Dense)              (None, 1)                 101       \n",
      "=================================================================\n",
      "Total params: 693,301\n",
      "Trainable params: 693,301\n",
      "Non-trainable params: 0\n",
      "_________________________________________________________________\n"
     ]
    }
   ],
   "source": [
    "model=Sequential()\n",
    "model.add(Embedding(VOCABULARY_LENGTH, 32, input_length=MAX_WORDS))\n",
    "model.add(LSTM(100))\n",
    "model.add(Dense(1, activation='sigmoid'))\n",
    "\n",
    "model.summary()"
   ]
  },
  {
   "cell_type": "markdown",
   "metadata": {
    "slideshow": {
     "slide_type": "subslide"
    }
   },
   "source": [
    "### Compile And Train Our Model\n",
    "\n",
    "We first need to compile our model by specifying the loss function and optimizer we want to use while training, as well as any evaluation metrics we'd like to measure."
   ]
  },
  {
   "cell_type": "code",
   "execution_count": 7,
   "metadata": {
    "slideshow": {
     "slide_type": "-"
    }
   },
   "outputs": [],
   "source": [
    "model.compile(loss='binary_crossentropy', optimizer='adam', metrics=['accuracy'])"
   ]
  },
  {
   "cell_type": "markdown",
   "metadata": {
    "slideshow": {
     "slide_type": "fragment"
    }
   },
   "source": [
    "Once compiled, we can run the training process."
   ]
  },
  {
   "cell_type": "code",
   "execution_count": 8,
   "metadata": {
    "slideshow": {
     "slide_type": "-"
    }
   },
   "outputs": [
    {
     "name": "stdout",
     "output_type": "stream",
     "text": [
      "Train on 24936 samples, validate on 64 samples\n",
      "Epoch 1/5\n",
      "24936/24936 [==============================] - 324s 13ms/step - loss: 0.4669 - accuracy: 0.7717 - val_loss: 0.1964 - val_accuracy: 0.9531\n",
      "Epoch 2/5\n",
      "24936/24936 [==============================] - 180s 7ms/step - loss: 0.2560 - accuracy: 0.8999 - val_loss: 0.3208 - val_accuracy: 0.8438\n",
      "Epoch 3/5\n",
      "24936/24936 [==============================] - 201s 8ms/step - loss: 0.1667 - accuracy: 0.9402 - val_loss: 0.3078 - val_accuracy: 0.8438\n",
      "Epoch 4/5\n",
      "24936/24936 [==============================] - 174s 7ms/step - loss: 0.1162 - accuracy: 0.9600 - val_loss: 0.3285 - val_accuracy: 0.8906\n",
      "Epoch 5/5\n",
      "24936/24936 [==============================] - 149s 6ms/step - loss: 0.0795 - accuracy: 0.9759 - val_loss: 0.3550 - val_accuracy: 0.9062\n"
     ]
    }
   ],
   "source": [
    "BATCH_SIZE = 64\n",
    "NUM_EPOCHS = 5\n",
    "\n",
    "validation = X_train[:BATCH_SIZE], y_train[:BATCH_SIZE]\n",
    "training = X_train[BATCH_SIZE:], y_train[BATCH_SIZE:]\n",
    "\n",
    "model.fit(*training, validation_data=validation, batch_size=BATCH_SIZE, epochs=NUM_EPOCHS);"
   ]
  },
  {
   "cell_type": "markdown",
   "metadata": {
    "slideshow": {
     "slide_type": "subslide"
    }
   },
   "source": [
    "### Test Model\n",
    "\n",
    "Once the training process is finished the model should be tested using unseen data to measure its accuracy."
   ]
  },
  {
   "cell_type": "code",
   "execution_count": 9,
   "metadata": {
    "slideshow": {
     "slide_type": "-"
    }
   },
   "outputs": [
    {
     "data": {
      "text/plain": [
       "'Test accuracy: 0.85628'"
      ]
     },
     "execution_count": 9,
     "metadata": {},
     "output_type": "execute_result"
    }
   ],
   "source": [
    "scores = model.evaluate(X_test, y_test, verbose=0)\n",
    "f\"Test accuracy: {scores[1]:.5f}\""
   ]
  },
  {
   "cell_type": "markdown",
   "metadata": {
    "slideshow": {
     "slide_type": "subslide"
    }
   },
   "source": [
    "### Prediction Example"
   ]
  },
  {
   "cell_type": "code",
   "execution_count": 10,
   "metadata": {
    "slideshow": {
     "slide_type": "skip"
    }
   },
   "outputs": [],
   "source": [
    "def predict(model, word2id, x):\n",
    "    x = x.lower().split()\n",
    "    x = [word2id.get(i, 0) for i in x]\n",
    "    x = sequence.pad_sequences([x], maxlen=MAX_WORDS)\n",
    "    score = model.predict(x)[0][0]\n",
    "    sentiment = {0: \"Negative\", 1: \"Positive\"}[model.predict_classes(x)[0][0]]\n",
    "    return score, sentiment"
   ]
  },
  {
   "cell_type": "code",
   "execution_count": 12,
   "metadata": {
    "slideshow": {
     "slide_type": "-"
    }
   },
   "outputs": [
    {
     "data": {
      "text/plain": [
       "\"The result is 'Positive' with a score of 0.80\""
      ]
     },
     "execution_count": 12,
     "metadata": {},
     "output_type": "execute_result"
    }
   ],
   "source": [
    "score, sentiment = predict(model, word2id, \"A girl is happy while playing with her toys\")\n",
    "\n",
    "f\"The result is '{sentiment}' with a score of {score:.2f}\""
   ]
  },
  {
   "cell_type": "markdown",
   "metadata": {
    "slideshow": {
     "slide_type": "subslide"
    }
   },
   "source": [
    "## Save Model And Words Mapping\n",
    "\n",
    "In order to use the model within a service it's necessary to export it and save the model and the words dictionary in files."
   ]
  },
  {
   "cell_type": "code",
   "execution_count": 13,
   "metadata": {
    "slideshow": {
     "slide_type": "-"
    }
   },
   "outputs": [],
   "source": [
    "model.save(\"sentiment_analysis_model.h5\")\n",
    "\n",
    "with open(\"sentiment_analysis_words.json\", \"w\") as f:\n",
    "    json.dump(word2id, f, indent=4)"
   ]
  },
  {
   "cell_type": "markdown",
   "metadata": {
    "slideshow": {
     "slide_type": "slide"
    }
   },
   "source": [
    "<h1><center>Developing The Service</center></h1>"
   ]
  },
  {
   "cell_type": "markdown",
   "metadata": {
    "slideshow": {
     "slide_type": "subslide"
    }
   },
   "source": [
    "## How To Expose The ML Model?\n",
    "\n",
    "Machine Learning models can be used either as an internal piece of a service or as a service itself."
   ]
  },
  {
   "cell_type": "markdown",
   "metadata": {
    "slideshow": {
     "slide_type": "fragment"
    }
   },
   "source": [
    "If it is used as an **internal piece** you won’t notice it, such as scoring or recommendation systems within bigger products like Spotify or Netflix."
   ]
  },
  {
   "cell_type": "markdown",
   "metadata": {
    "slideshow": {
     "slide_type": "fragment"
    }
   },
   "source": [
    "But you can also find them as a **service that exposes an API** to directly interact with the model. There are many examples of that in AWS, Google Cloud, Azure..."
   ]
  },
  {
   "cell_type": "markdown",
   "metadata": {
    "slideshow": {
     "slide_type": "subslide"
    }
   },
   "source": [
    "## Wrapping Up A ML Model\n",
    "\n",
    "One of the most widely adopted way of serving a ML model is to wrap it into a **REST API** with specific methods for calling the model."
   ]
  },
  {
   "cell_type": "markdown",
   "metadata": {
    "slideshow": {
     "slide_type": "subslide"
    }
   },
   "source": [
    "## The Service\n",
    "\n",
    "Our service will expose a single endpoint that let us interact with the model.\n",
    "\n",
    "### Request\n",
    "\n",
    "<br>\n",
    "<div style=\"display: table; padding-left: 2em;\">\n",
    "    <div style=\"display: table-row;\">\n",
    "        <div style=\"display: table-cell; text-align: right; padding-right: 2em;\">\n",
    "            <b>Verb</b>\n",
    "        </div>\n",
    "        <div style=\"display: table-cell; text-align: left;\">\n",
    "            <tt>GET</tt>\n",
    "        </div>\n",
    "    </div>\n",
    "    <div style=\"display: table-row;\">\n",
    "        <div style=\"display: table-cell; text-align: right; padding-right: 2em;\">\n",
    "            <b>URL</b>\n",
    "        </div>\n",
    "        <div style=\"display: table-cell; text-align: left;\">\n",
    "            <tt>https://service.url/analyze/</tt>\n",
    "        </div>\n",
    "    </div>\n",
    "    <div style=\"display: table-row;\">\n",
    "        <div style=\"display: table-cell; text-align: right; padding-right: 2em;\">\n",
    "            <b>Params</b>\n",
    "        </div>\n",
    "        <div style=\"display: table-cell; text-align: left;\">\n",
    "            <tt>text=The%20girl%20is%20having%20fun%20while%20playing</tt>\n",
    "        </div>\n",
    "    </div>\n",
    "</div>\n",
    "\n",
    "### Response\n",
    "\n",
    "```json\n",
    "{\n",
    "  ”text”: ”The girl is having fun while playing”,\n",
    "  ”sentiment”: ”Positive”,\n",
    "  ”score”: 0.6321590542793274\n",
    "}\n",
    "```"
   ]
  },
  {
   "cell_type": "markdown",
   "metadata": {
    "slideshow": {
     "slide_type": "subslide"
    }
   },
   "source": [
    "## Building A REST API With Flama\n",
    "\n",
    "To build a REST API we need to define:"
   ]
  },
  {
   "cell_type": "markdown",
   "metadata": {
    "slideshow": {
     "slide_type": "fragment"
    }
   },
   "source": [
    "1. A **component** that loads our ML model."
   ]
  },
  {
   "cell_type": "markdown",
   "metadata": {
    "slideshow": {
     "slide_type": "fragment"
    }
   },
   "source": [
    "2. The **data schema** for our response."
   ]
  },
  {
   "cell_type": "markdown",
   "metadata": {
    "slideshow": {
     "slide_type": "fragment"
    }
   },
   "source": [
    "3. The **view** function that will be called through requests to /analyze/ endpoint."
   ]
  },
  {
   "cell_type": "markdown",
   "metadata": {
    "slideshow": {
     "slide_type": "fragment"
    }
   },
   "source": [
    "4. The whole API **application**."
   ]
  },
  {
   "cell_type": "markdown",
   "metadata": {
    "slideshow": {
     "slide_type": "fragment"
    }
   },
   "source": [
    "Everything put together is less than 100 lines of python code."
   ]
  },
  {
   "cell_type": "markdown",
   "metadata": {
    "slideshow": {
     "slide_type": "subslide"
    }
   },
   "source": [
    "## ML Component"
   ]
  },
  {
   "cell_type": "code",
   "execution_count": 2,
   "metadata": {
    "slideshow": {
     "slide_type": "-"
    }
   },
   "outputs": [],
   "source": [
    "class SentimentAnalysisModel:\n",
    "    def __init__(self, model, words: typing.Dict[str, int], max_words: int=500, vocabulary_length: int=20000):\n",
    "        self.model = model\n",
    "        self.words = words\n",
    "        self.max_words = max_words\n",
    "        self.vocabulary_length = vocabulary_length\n",
    "    \n",
    "    def predict(self, text: str) -> typing.Tuple[float, str]:\n",
    "        x = [self.words.get(i, 0) if self.words.get(i, 0) <= self.vocabulary_length else 0 for i in text.lower().split()]\n",
    "        x = sequence.pad_sequences([x], maxlen=self.max_words)\n",
    "        score = self.model.predict(x)\n",
    "        sentiment = {0: \"Negative\", 1: \"Positive\"}[self.model.predict_classes(x)[0][0]]\n",
    "        return score, sentiment"
   ]
  },
  {
   "cell_type": "code",
   "execution_count": 3,
   "metadata": {
    "slideshow": {
     "slide_type": "-"
    }
   },
   "outputs": [],
   "source": [
    "class SentimentAnalysisModelComponent(Component):\n",
    "    def __init__(self, model_path: str, words_path: str):\n",
    "        self._model_path = model_path\n",
    "        with open(words_path) as f:\n",
    "            self.words = json.load(f)\n",
    "            \n",
    "    @property\n",
    "    def model(self):\n",
    "        if not hasattr(self, \"_model\"):\n",
    "            from keras.models import load_model\n",
    "            self._model = load_model(self._model_path)\n",
    "            self._model._make_predict_function()\n",
    "        return self._model\n",
    "            \n",
    "    def resolve(self) -> SentimentAnalysisModel: \n",
    "        return SentimentAnalysisModel(model=self.model, words=self.words)"
   ]
  },
  {
   "cell_type": "markdown",
   "metadata": {
    "slideshow": {
     "slide_type": "subslide"
    }
   },
   "source": [
    "## Data Schema"
   ]
  },
  {
   "cell_type": "code",
   "execution_count": 4,
   "metadata": {
    "slideshow": {
     "slide_type": "-"
    }
   },
   "outputs": [],
   "source": [
    "class SentimentAnalysis(Schema):\n",
    "    text = fields.String(\n",
    "        title=\"text\",\n",
    "        description=\"Text to analyze\"\n",
    "    )\n",
    "    score = fields.Float(\n",
    "        title=\"score\",\n",
    "        description=\"Sentiment score in range [0,1]\"\n",
    "    )\n",
    "    sentiment = fields.String(\n",
    "        title=\"sentiment\",\n",
    "        description=\"Sentiment class (Positive or Negative)\"\n",
    "    )"
   ]
  },
  {
   "cell_type": "markdown",
   "metadata": {
    "slideshow": {
     "slide_type": "subslide"
    }
   },
   "source": [
    "## Analysis View"
   ]
  },
  {
   "cell_type": "code",
   "execution_count": 5,
   "metadata": {
    "slideshow": {
     "slide_type": "-"
    }
   },
   "outputs": [],
   "source": [
    "def analyze(text: str, model: SentimentAnalysisModel) -> SentimentAnalysis:\n",
    "    \"\"\"\n",
    "    tags:\n",
    "        - sentiment-analysis\n",
    "    summary:\n",
    "        Sentiment analysis.\n",
    "    description:\n",
    "        Performs a sentiment analysis on a given text.\n",
    "    responses:\n",
    "        200:\n",
    "            description: Analysis result.\n",
    "    \"\"\"\n",
    "    text = unquote(text)\n",
    "    score, sentiment = model.predict(text)\n",
    "    return {\n",
    "        \"text\": text,\n",
    "        \"score\": score,\n",
    "        \"sentiment\": sentiment,\n",
    "    }"
   ]
  },
  {
   "cell_type": "markdown",
   "metadata": {
    "slideshow": {
     "slide_type": "subslide"
    }
   },
   "source": [
    "## API Application"
   ]
  },
  {
   "cell_type": "code",
   "execution_count": 6,
   "metadata": {
    "slideshow": {
     "slide_type": "-"
    }
   },
   "outputs": [],
   "source": [
    "app = Flama(\n",
    "    components=[SentimentAnalysisModelComponent(\"model.h5\", \"words.json\")],\n",
    "    title=\"Sentiment Analysis\",\n",
    "    version=\"0.1\",\n",
    "    description=\"A sentiment analysis API for movies reviews\",\n",
    "    redoc=\"/redoc/\",\n",
    ")"
   ]
  },
  {
   "cell_type": "code",
   "execution_count": 7,
   "metadata": {
    "slideshow": {
     "slide_type": "-"
    }
   },
   "outputs": [],
   "source": [
    "app.add_route(\"/analyze/\", analyze, methods=[\"GET\"])"
   ]
  },
  {
   "cell_type": "markdown",
   "metadata": {
    "slideshow": {
     "slide_type": "subslide"
    }
   },
   "source": [
    "## Run The Service"
   ]
  },
  {
   "cell_type": "code",
   "execution_count": 8,
   "metadata": {},
   "outputs": [],
   "source": [
    "Process(target=uvicorn.run, kwargs={\"app\": app, \"host\": \"0.0.0.0\", \"port\": 8000}, daemon=True).start()"
   ]
  },
  {
   "cell_type": "markdown",
   "metadata": {
    "slideshow": {
     "slide_type": "slide"
    }
   },
   "source": [
    "<h1><center>Testing The Service</center></h1>"
   ]
  },
  {
   "cell_type": "markdown",
   "metadata": {
    "slideshow": {
     "slide_type": "subslide"
    }
   },
   "source": [
    "## Testing Considerations\n",
    "\n",
    "The most commons development cases of Machine Learning services are those where the building of the model and the service are done completely separated and even by different teams.\n",
    "\n",
    "That implies we aren’t in control of the training process so that we cannot test the model until both are merged."
   ]
  },
  {
   "cell_type": "markdown",
   "metadata": {
    "slideshow": {
     "slide_type": "subslide"
    }
   },
   "source": [
    "## Validation VS Verification\n",
    "\n",
    "<table>\n",
    "\t<thead>\n",
    "\t\t<tr>\n",
    "\t\t\t<th>Criteria</th>\n",
    "\t\t\t<th>Verification</th>\n",
    "\t\t\t<th>Validation</th>\n",
    "\t\t</tr>\n",
    "    </thead>\n",
    "    <tbody>\n",
    "\t\t<tr>\n",
    "\t\t\t<td><b>Definition</b></td>\n",
    "\t\t\t<td>The process of evaluating products of a development phase to determine whether they meet the specified re- quirements.</td>\n",
    "\t\t\t<td>The process of evaluating software during or at the end of the development process to determine whether it sat- isfies specified business re- quirements.</td>\n",
    "\t\t</tr>\n",
    "\t\t<tr>\n",
    "\t\t\t<td><b>Objective</b></td>\n",
    "\t\t\t<td>To ensure that the product is being built according to the requirements and design specifications.</td>\n",
    "\t\t\t<td>To demonstrate that the product fulfills its intended use when placed in its intended environment.</td>\n",
    "\t\t</tr>\n",
    "\t\t<tr>\n",
    "\t\t\t<td><b>Question</b></td>\n",
    "\t\t\t<td>Are we building the product right?</td>\n",
    "\t\t\t<td>Are we building the right product?</td>\n",
    "\t\t</tr>\n",
    "\t</tbody>\n",
    "</table>"
   ]
  },
  {
   "cell_type": "markdown",
   "metadata": {
    "slideshow": {
     "slide_type": "subslide"
    }
   },
   "source": [
    "## Test Specification: Verification\n",
    "\n",
    "```markdown\n",
    "## Endpoint Verification\n",
    "Tags: functional, verification\n",
    "\n",
    "Verify if the endpoint that allows interaction with Sentiment Analyzer\n",
    "is properly defined based on specifications. It must provide a query\n",
    "parameter **text** that acts as the input of the model and it cannot be\n",
    "empty. The response must be a JSON containing three attributes:\n",
    "**text**, **score** and **sentiment**.\n",
    "\n",
    "* Request sentiment analysis with text \"Perdy is testing this\" returns \"200\"\n",
    "* Response schema contains attributes\n",
    "    |Attribute|\n",
    "    |---------|\n",
    "    |text     |\n",
    "    |score    |\n",
    "    |sentiment|\n",
    "* Request sentiment analysis with text \"\" returns \"400\"\n",
    "```"
   ]
  },
  {
   "cell_type": "markdown",
   "metadata": {
    "slideshow": {
     "slide_type": "subslide"
    }
   },
   "source": [
    "## Test Specification: Validation\n",
    "\n",
    "```markdown\n",
    "## Model Validation\n",
    "Tags: ml, validation\n",
    "\n",
    "Validate the model predictions against a set of fixed data. This data set\n",
    "must contains a minimum list of well-known pairs of input and output to\n",
    "check that after retraining the model it will continue behaving the same\n",
    "way against these inputs.\n",
    "\n",
    "* Analyze and validate the following texts <table:data/sentiment_analysis.csv>\n",
    "```"
   ]
  },
  {
   "cell_type": "markdown",
   "metadata": {
    "slideshow": {
     "slide_type": "subslide"
    }
   },
   "source": [
    "## Step Implementation\n",
    "\n",
    "```python\n",
    "@step(\"Response schema contains attributes <table>\")\n",
    "def assert_response_schema(table):\n",
    "    response = data_store.scenario[”response”]\n",
    "    for attribute in table.get_column_values_with_name(”Attribute”):\n",
    "        assert attribute in response\n",
    "```"
   ]
  },
  {
   "cell_type": "markdown",
   "metadata": {
    "slideshow": {
     "slide_type": "subslide"
    }
   },
   "source": [
    "## Run Tests"
   ]
  },
  {
   "cell_type": "code",
   "execution_count": 9,
   "metadata": {
    "slideshow": {
     "slide_type": "fragment"
    }
   },
   "outputs": [
    {
     "name": "stdout",
     "output_type": "stream",
     "text": [
      "ERROR: tensorboard 2.0.1 has requirement grpcio>=1.24.3, but you'll have grpcio 1.15.0 which is incompatible.\n",
      "Error ----------------------------------\n",
      "\n",
      "[Gauge]\n",
      "Failed to start gauge API: Timed out connecting to 127.0.0.1:33411\n",
      "\n",
      "Get Support ----------------------------\n",
      "\tDocs:          https://docs.gauge.org\n",
      "\tBugs:          https://github.com/getgauge/gauge/issues\n",
      "\tChat:          https://gitter.im/getgauge/chat\n",
      "\n",
      "Your Environment Information -----------\n",
      "\tlinux, 1.0.6, 2bc49db\n",
      "\thtml-report (4.0.8), python (0.3.6), screenshot (0.0.1), xml-report (0.2.2)\n"
     ]
    }
   ],
   "source": [
    "!gauge run tests/specs"
   ]
  },
  {
   "cell_type": "markdown",
   "metadata": {
    "slideshow": {
     "slide_type": "fragment"
    }
   },
   "source": [
    "[HTML Report](tests/reports/html-report/index.html)"
   ]
  },
  {
   "cell_type": "markdown",
   "metadata": {
    "slideshow": {
     "slide_type": "slide"
    }
   },
   "source": [
    "<div align=\"center\"><img src=\"img/contraportada.jpg\" alt=\"Test Academy\" width=\"800\" height=\"600\" /></div>"
   ]
  },
  {
   "cell_type": "markdown",
   "metadata": {
    "slideshow": {
     "slide_type": "subslide"
    }
   },
   "source": [
    "<div align=\"center\"><h1>Machine Learning Services Validation</h1></div>\n",
    "<br>\n",
    "<div align=\"center\"><em>Do not let your Machine Learning service going into production without being tested</em></div>\n",
    "\n",
    "\n",
    "<br>\n",
    "\n",
    "***\n",
    "<div style=\"width: 100%; display: table;\">\n",
    "    <div style=\"display: table-row\">\n",
    "        <div style=\"display: table-cell; text-align: center; width: 50%;\">\n",
    "            <span><b>José Antonio Perdiguero López</b></span>\n",
    "            <br><br>\n",
    "            <span>🌐 http://www.perdy.io</span>\n",
    "            <br><br>\n",
    "            <span>👨‍💻 https://github.com/perdy</span>\n",
    "            <br><br>\n",
    "            <span>👔 https://www.linkedin.com/in/perdy</span>\n",
    "            <br><br>\n",
    "            <span>📧 perdy@perdy.io</span>\n",
    "        </div>\n",
    "        <div style=\"display: table-cell; text-align: center; width: 50%;\">\n",
    "            <span><b>Support open source projects by giving a star ⭐ and spreading the word 📣</b></span>\n",
    "            <br><br>\n",
    "            <span>https://flama.perdy.io/</span>\n",
    "            <br><br>\n",
    "            <span>https://getgauge.io/</span>\n",
    "            <br><br>\n",
    "            <span>https://www.tensorflow.org</span>\n",
    "            <br><br>\n",
    "            <span>https://www.python.org/</span>\n",
    "        </div>\n",
    "    </div>\n",
    "</div>"
   ]
  }
 ],
 "metadata": {
  "celltoolbar": "Slideshow",
  "kernelspec": {
   "display_name": "Python 3",
   "language": "python",
   "name": "python3"
  },
  "language_info": {
   "codemirror_mode": {
    "name": "ipython",
    "version": 3
   },
   "file_extension": ".py",
   "mimetype": "text/x-python",
   "name": "python",
   "nbconvert_exporter": "python",
   "pygments_lexer": "ipython3",
   "version": "3.7.5"
  },
  "rise": {
   "auto_select": "code",
   "auto_select_fragment": true,
   "enable_chalkboard": true,
   "theme": "solarized"
  }
 },
 "nbformat": 4,
 "nbformat_minor": 2
}
